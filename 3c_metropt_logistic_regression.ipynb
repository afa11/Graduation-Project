{
 "cells": [
  {
   "cell_type": "code",
   "execution_count": 22,
   "metadata": {},
   "outputs": [],
   "source": [
    "import pandas as pd\n",
    "import importlib\n",
    "import mpt_functions as mpt\n",
    "importlib.reload(mpt)\n",
    "import seaborn as sns\n",
    "import matplotlib.pyplot as plt\n",
    "import numpy as np\n",
    "from scipy import stats\n",
    "from sklearn.preprocessing import StandardScaler\n",
    "from sklearn.cluster import KMeans\n",
    "from sklearn.decomposition import PCA\n",
    "from imblearn.over_sampling import SMOTE\n",
    "from datetime import datetime, timedelta"
   ]
  },
  {
   "cell_type": "code",
   "execution_count": 12,
   "metadata": {},
   "outputs": [],
   "source": [
    "f1_start = \"2020-04-18 00:00:00\"\n",
    "f1_finish = \"2020-04-18 23:59:00\"\n",
    "f2_start = \"2020-05-29 23:30:00\"\n",
    "f2_finish = \"2020-05-30 06:00:00\"\n",
    "f3_start = \"2020-06-05 10:00:00\"\n",
    "f3_finish = \"2020-06-07 14:30:00\"\n",
    "f4_start = \"2020-07-15 14:30:00\"\n",
    "f4_finish = \"2020-07-15 19:00:00\"\n",
    "\n",
    "#\n",
    "\n",
    "path = \"/Users/abdullahfurkanarslan/Desktop/metropt+3+dataset 2/MetroPT3(AirCompressor).csv\"\n",
    "df = mpt.get_the_data_and_convert_datetime(path)\n",
    "\n",
    "#\n",
    "\n",
    "df = mpt.drop_a_column(df, \"Unnamed: 0\")\n",
    "\n",
    "#\n",
    "\n",
    "df = df.assign(condition=0)\n",
    "df = mpt.change_the_values_by_applying_a_time_filter(df, f1_start, f1_finish, \"condition\", 1)\n",
    "df = mpt.change_the_values_by_applying_a_time_filter(df, f2_start, f2_finish, \"condition\", 1)\n",
    "df = mpt.change_the_values_by_applying_a_time_filter(df, f3_start, f3_finish, \"condition\", 1)\n",
    "df = mpt.change_the_values_by_applying_a_time_filter(df, f4_start, f4_finish, \"condition\", 1)\n",
    "\n",
    "#\n",
    "\n",
    "df[\"day_number\"] = df.index + 1\n",
    "\n",
    "#\n",
    "\n",
    "df  = mpt.counter_for_maintenance(df , \"2020-02-01 00:00:00\", f1_finish)\n",
    "df  = mpt.counter_for_maintenance(df , f1_finish, f2_finish)\n",
    "df  = mpt.counter_for_maintenance(df , f2_finish, f3_finish)\n",
    "df  = mpt.counter_for_maintenance(df , f3_finish, f4_finish)\n",
    "df = mpt.counter_for_maintenance(df, f4_finish, \"2020-09-01 03:59:51\")\n",
    "\n",
    "#\n",
    "\n",
    "all_column_names = df.columns.to_list()\n",
    "\n",
    "name_of_the_categorical_columns = ['COMP', 'DV_eletric', 'Towers',\n",
    "       'MPG', 'LPS', 'Pressure_switch', 'Oil_level', 'Caudal_impulses']\n",
    "\n",
    "name_of_the_numerical_columns =[\"counter\",'day_number','TP2', 'TP3', 'H1', 'DV_pressure', 'Reservoirs',\n",
    "       'Oil_temperature', 'Motor_current']\n",
    "\n",
    "target_column = df[\"condition\"]\n",
    "\n",
    "#\n",
    "\n",
    "df_scaled = mpt.scale_columns(df, name_of_the_numerical_columns)\n",
    "\n",
    "#\n",
    "\n",
    "df_clustered = mpt.apply_kmeans_clustering(df_scaled, 5, \"condition\")\n"
   ]
  },
  {
   "cell_type": "markdown",
   "metadata": {},
   "source": [
    "BACK_UP"
   ]
  },
  {
   "cell_type": "code",
   "execution_count": 13,
   "metadata": {},
   "outputs": [],
   "source": [
    "df = df_clustered.copy()"
   ]
  },
  {
   "cell_type": "markdown",
   "metadata": {},
   "source": [
    "MORE FEATURE ENGINEERING"
   ]
  },
  {
   "cell_type": "code",
   "execution_count": 27,
   "metadata": {},
   "outputs": [],
   "source": [
    "df1 = mpt.filter_rows_between_the_given_timestamps(df, mpt.adjust_datetime(f1_start, \"backward\", 2), mpt.adjust_datetime(f1_finish, \"forward\", 1))\n",
    "df2 = mpt.filter_rows_between_the_given_timestamps(df, mpt.adjust_datetime(f2_start, \"backward\", 2), mpt.adjust_datetime(f2_finish, \"forward\", 1))\n",
    "df3 = mpt.filter_rows_between_the_given_timestamps(df, mpt.adjust_datetime(f3_start, \"backward\", 2), mpt.adjust_datetime(f3_finish, \"forward\", 1))\n",
    "df4 = mpt.filter_rows_between_the_given_timestamps(df, mpt.adjust_datetime(f4_start, \"backward\", 2), mpt.adjust_datetime(f4_finish, \"forward\", 1))"
   ]
  },
  {
   "cell_type": "markdown",
   "metadata": {},
   "source": [
    "LOGISTIC PART"
   ]
  },
  {
   "cell_type": "code",
   "execution_count": null,
   "metadata": {},
   "outputs": [],
   "source": []
  }
 ],
 "metadata": {
  "kernelspec": {
   "display_name": "Python 3",
   "language": "python",
   "name": "python3"
  },
  "language_info": {
   "codemirror_mode": {
    "name": "ipython",
    "version": 3
   },
   "file_extension": ".py",
   "mimetype": "text/x-python",
   "name": "python",
   "nbconvert_exporter": "python",
   "pygments_lexer": "ipython3",
   "version": "3.13.1"
  }
 },
 "nbformat": 4,
 "nbformat_minor": 2
}
