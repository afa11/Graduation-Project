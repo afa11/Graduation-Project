{
 "cells": [
  {
   "cell_type": "code",
   "execution_count": 80,
   "metadata": {},
   "outputs": [],
   "source": [
    "import pandas as pd\n",
    "import importlib\n",
    "import mpt_functions as mpt\n",
    "importlib.reload(mpt)\n",
    "import seaborn as sns\n",
    "import matplotlib.pyplot as plt\n",
    "import numpy as np\n",
    "from scipy import stats\n",
    "from sklearn.preprocessing import StandardScaler\n",
    "from sklearn.cluster import KMeans\n",
    "from sklearn.decomposition import PCA\n",
    "from imblearn.over_sampling import SMOTE\n",
    "from datetime import datetime, timedelta\n",
    "from sklearn.linear_model import LogisticRegression\n",
    "from sklearn.metrics import f1_score"
   ]
  },
  {
   "cell_type": "code",
   "execution_count": 81,
   "metadata": {},
   "outputs": [],
   "source": [
    "f1_start = \"2020-04-18 00:00:00\"\n",
    "f1_finish = \"2020-04-18 23:59:00\"\n",
    "f2_start = \"2020-05-29 23:30:00\"\n",
    "f2_finish = \"2020-05-30 06:00:00\"\n",
    "f3_start = \"2020-06-05 10:00:00\"\n",
    "f3_finish = \"2020-06-07 14:30:00\"\n",
    "f4_start = \"2020-07-15 14:30:00\"\n",
    "f4_finish = \"2020-07-15 19:00:00\"\n",
    "\n",
    "#\n",
    "\n",
    "path = \"/Users/abdullahfurkanarslan/Desktop/metropt+3+dataset 2/MetroPT3(AirCompressor).csv\"\n",
    "df = mpt.get_the_data_and_convert_datetime(path)\n",
    "\n",
    "#\n",
    "\n",
    "df = mpt.drop_a_column(df, \"Unnamed: 0\")\n",
    "\n",
    "#\n",
    "\n",
    "df = df.assign(condition=0)\n",
    "df = mpt.change_the_values_by_applying_a_time_filter(df, f1_start, f1_finish, \"condition\", 1)\n",
    "df = mpt.change_the_values_by_applying_a_time_filter(df, f2_start, f2_finish, \"condition\", 1)\n",
    "df = mpt.change_the_values_by_applying_a_time_filter(df, f3_start, f3_finish, \"condition\", 1)\n",
    "df = mpt.change_the_values_by_applying_a_time_filter(df, f4_start, f4_finish, \"condition\", 1)\n",
    "\n",
    "#\n",
    "\n",
    "df[\"day_number\"] = df.index + 1\n",
    "\n",
    "#\n",
    "\n",
    "df  = mpt.counter_for_maintenance(df , \"2020-02-01 00:00:00\", f1_finish)\n",
    "df  = mpt.counter_for_maintenance(df , f1_finish, f2_finish)\n",
    "df  = mpt.counter_for_maintenance(df , f2_finish, f3_finish)\n",
    "df  = mpt.counter_for_maintenance(df , f3_finish, f4_finish)\n",
    "df = mpt.counter_for_maintenance(df, f4_finish, \"2020-09-01 03:59:51\")\n",
    "\n",
    "#\n",
    "\n",
    "all_column_names = df.columns.to_list()\n",
    "\n",
    "name_of_the_categorical_columns = ['COMP', 'DV_eletric', 'Towers',\n",
    "       'MPG', 'LPS', 'Pressure_switch', 'Oil_level', 'Caudal_impulses']\n",
    "\n",
    "name_of_the_numerical_columns =[\"counter\",'day_number','TP2', 'TP3', 'H1', 'DV_pressure', 'Reservoirs',\n",
    "       'Oil_temperature', 'Motor_current']\n",
    "\n",
    "target_column = df[\"condition\"]\n",
    "\n",
    "#\n",
    "\n",
    "df_scaled = mpt.scale_columns(df, name_of_the_numerical_columns)\n",
    "\n",
    "#\n",
    "\n",
    "df_clustered = mpt.apply_kmeans_clustering(df_scaled, 5, \"condition\")\n"
   ]
  },
  {
   "cell_type": "markdown",
   "metadata": {},
   "source": [
    "BACK_UP"
   ]
  },
  {
   "cell_type": "code",
   "execution_count": 83,
   "metadata": {},
   "outputs": [],
   "source": [
    "df_back_up = df_clustered.copy()"
   ]
  },
  {
   "cell_type": "markdown",
   "metadata": {},
   "source": [
    "MORE FEATURE ENGINEERING"
   ]
  },
  {
   "cell_type": "code",
   "execution_count": 84,
   "metadata": {},
   "outputs": [],
   "source": [
    "df = df_back_up.copy()\n",
    "df1 = mpt.filter_rows_between_the_given_timestamps(df, mpt.adjust_datetime(f1_start, \"backward\", 2), mpt.adjust_datetime(f1_finish, \"forward\", 1))\n",
    "df2 = mpt.filter_rows_between_the_given_timestamps(df, mpt.adjust_datetime(f2_start, \"backward\", 2), mpt.adjust_datetime(f2_finish, \"forward\", 1))\n",
    "df3 = mpt.filter_rows_between_the_given_timestamps(df, mpt.adjust_datetime(f3_start, \"backward\", 2), mpt.adjust_datetime(f3_finish, \"forward\", 1))\n",
    "df4 = mpt.filter_rows_between_the_given_timestamps(df, mpt.adjust_datetime(f4_start, \"backward\", 2), mpt.adjust_datetime(f4_finish, \"forward\", 1))\n"
   ]
  },
  {
   "cell_type": "markdown",
   "metadata": {},
   "source": [
    "LOGISTIC PART"
   ]
  },
  {
   "cell_type": "code",
   "execution_count": 85,
   "metadata": {},
   "outputs": [
    {
     "name": "stderr",
     "output_type": "stream",
     "text": [
      "/Library/Frameworks/Python.framework/Versions/3.13/lib/python3.13/site-packages/sklearn/linear_model/_logistic.py:465: ConvergenceWarning: lbfgs failed to converge (status=1):\n",
      "STOP: TOTAL NO. OF ITERATIONS REACHED LIMIT.\n",
      "\n",
      "Increase the number of iterations (max_iter) or scale the data as shown in:\n",
      "    https://scikit-learn.org/stable/modules/preprocessing.html\n",
      "Please also refer to the documentation for alternative solver options:\n",
      "    https://scikit-learn.org/stable/modules/linear_model.html#logistic-regression\n",
      "  n_iter_i = _check_optimize_result(\n"
     ]
    }
   ],
   "source": [
    "df_log_reg_train = pd.concat([df1, df2, df3], ignore_index=True).copy()\n",
    "df_log_reg_test = df4.copy()\n",
    "\n",
    "y_train = df_log_reg_train[\"condition\"]\n",
    "X_train=  df_log_reg_train.drop(\"condition\", axis='columns')\n",
    "X_train = X_train.drop(\"timestamp\", axis= \"columns\")\n",
    "\n",
    "y_test = df_log_reg_test[\"condition\"]\n",
    "X_test=  df_log_reg_test.drop(\"condition\", axis='columns')\n",
    "X_test = X_test.drop(\"timestamp\", axis= \"columns\")\n",
    "\n",
    "\n",
    "model = LogisticRegression()\n",
    "model.fit(X_train, y_train)\n",
    "\n",
    "y_proba = model.predict_proba(X_test)[:, 1]"
   ]
  },
  {
   "cell_type": "code",
   "execution_count": 86,
   "metadata": {},
   "outputs": [
    {
     "name": "stdout",
     "output_type": "stream",
     "text": [
      "F1 Score: 0.9314\n"
     ]
    }
   ],
   "source": [
    "# failure prediction part\n",
    "\n",
    "# Olasılıkları sınıflara dönüştür (0.5 eşik değeri kullanarak)\n",
    "y_pred = (y_proba >= 0.99999).astype(int)\n",
    "\n",
    "# F1-score hesapla\n",
    "f1 = f1_score(y_test, y_pred)\n",
    "print(f\"F1 Score: {f1:.4f}\")"
   ]
  },
  {
   "cell_type": "markdown",
   "metadata": {},
   "source": [
    "IMPORTANT"
   ]
  },
  {
   "cell_type": "code",
   "execution_count": 87,
   "metadata": {},
   "outputs": [
    {
     "data": {
      "text/html": [
       "<div>\n",
       "<style scoped>\n",
       "    .dataframe tbody tr th:only-of-type {\n",
       "        vertical-align: middle;\n",
       "    }\n",
       "\n",
       "    .dataframe tbody tr th {\n",
       "        vertical-align: top;\n",
       "    }\n",
       "\n",
       "    .dataframe thead th {\n",
       "        text-align: right;\n",
       "    }\n",
       "</style>\n",
       "<table border=\"1\" class=\"dataframe\">\n",
       "  <thead>\n",
       "    <tr style=\"text-align: right;\">\n",
       "      <th></th>\n",
       "      <th>proba</th>\n",
       "      <th>condition</th>\n",
       "    </tr>\n",
       "  </thead>\n",
       "  <tbody>\n",
       "    <tr>\n",
       "      <th>1158969</th>\n",
       "      <td>0.041251</td>\n",
       "      <td>0</td>\n",
       "    </tr>\n",
       "    <tr>\n",
       "      <th>1158970</th>\n",
       "      <td>0.048853</td>\n",
       "      <td>0</td>\n",
       "    </tr>\n",
       "    <tr>\n",
       "      <th>1158971</th>\n",
       "      <td>0.077202</td>\n",
       "      <td>0</td>\n",
       "    </tr>\n",
       "    <tr>\n",
       "      <th>1158972</th>\n",
       "      <td>0.077949</td>\n",
       "      <td>0</td>\n",
       "    </tr>\n",
       "    <tr>\n",
       "      <th>1158973</th>\n",
       "      <td>0.085206</td>\n",
       "      <td>0</td>\n",
       "    </tr>\n",
       "    <tr>\n",
       "      <th>...</th>\n",
       "      <td>...</td>\n",
       "      <td>...</td>\n",
       "    </tr>\n",
       "    <tr>\n",
       "      <th>1181310</th>\n",
       "      <td>0.036049</td>\n",
       "      <td>0</td>\n",
       "    </tr>\n",
       "    <tr>\n",
       "      <th>1181311</th>\n",
       "      <td>0.027268</td>\n",
       "      <td>0</td>\n",
       "    </tr>\n",
       "    <tr>\n",
       "      <th>1181312</th>\n",
       "      <td>0.021923</td>\n",
       "      <td>0</td>\n",
       "    </tr>\n",
       "    <tr>\n",
       "      <th>1181313</th>\n",
       "      <td>0.019395</td>\n",
       "      <td>0</td>\n",
       "    </tr>\n",
       "    <tr>\n",
       "      <th>1181314</th>\n",
       "      <td>0.023975</td>\n",
       "      <td>0</td>\n",
       "    </tr>\n",
       "  </tbody>\n",
       "</table>\n",
       "<p>22346 rows × 2 columns</p>\n",
       "</div>"
      ],
      "text/plain": [
       "            proba  condition\n",
       "1158969  0.041251          0\n",
       "1158970  0.048853          0\n",
       "1158971  0.077202          0\n",
       "1158972  0.077949          0\n",
       "1158973  0.085206          0\n",
       "...           ...        ...\n",
       "1181310  0.036049          0\n",
       "1181311  0.027268          0\n",
       "1181312  0.021923          0\n",
       "1181313  0.019395          0\n",
       "1181314  0.023975          0\n",
       "\n",
       "[22346 rows x 2 columns]"
      ]
     },
     "execution_count": 87,
     "metadata": {},
     "output_type": "execute_result"
    }
   ],
   "source": [
    "# for early detection\n",
    "df_ed = pd.DataFrame({\"proba\": y_proba, \"condition\": y_test})\n",
    "df_ed"
   ]
  },
  {
   "cell_type": "code",
   "execution_count": 77,
   "metadata": {},
   "outputs": [],
   "source": [
    "def update_condition_values(df, num_rows_before=3): # daha sonra fonksiyonıu değiştircem # unutma\n",
    "\n",
    "    result = df.copy()\n",
    "\n",
    "    condition_1_indices = result[result['condition'] == 1].index.tolist()\n",
    "    \n",
    "    indices_to_update = []\n",
    "    \n",
    "    for idx in condition_1_indices:\n",
    "        # Önceki num_rows_before satırın indekslerini al\n",
    "        start_idx = max(0, idx - num_rows_before)\n",
    "        prev_indices = list(range(start_idx, idx))\n",
    "        indices_to_update.extend(prev_indices)\n",
    "\n",
    "    result.loc[indices_to_update, 'condition'] = 2\n",
    "    \n",
    "    return result"
   ]
  },
  {
   "cell_type": "code",
   "execution_count": 89,
   "metadata": {},
   "outputs": [],
   "source": [
    "def condition_degistir(df, n_rows=3): # TEKRAR YAZILACAK\n",
    "\n",
    "    # Veri çerçevesinin bir kopyasını oluşturalım\n",
    "    df_copy = df.copy()\n",
    "    \n",
    "    # 'condition' sütunundaki değişimleri bulalım\n",
    "    # Bir önceki değer 0 ve şimdiki değer 1 olan yerleri tespit edelim\n",
    "    condition_change = (df_copy['condition'].shift(1) == 0) & (df_copy['condition'] == 1)\n",
    "    \n",
    "    # Değişim noktalarının indekslerini bulalım\n",
    "    change_indices = df_copy[condition_change].index.tolist()\n",
    "    \n",
    "    # Her değişimden önce n_rows kadar satırı 2 ile değiştirelim\n",
    "    for idx in change_indices:\n",
    "        # n_rows kadar geriye gidelim, ancak negatif indeks oluşmamasına dikkat edelim\n",
    "        start_idx = max(0, idx - n_rows)\n",
    "        \n",
    "        # Sadece condition değeri 0 olan satırları 2 ile değiştirelim\n",
    "        for i in range(start_idx, idx):\n",
    "            if df_copy.loc[i, 'condition'] == 0:\n",
    "                df_copy.loc[i, 'condition'] = 2\n",
    "    \n",
    "    return df_copy"
   ]
  },
  {
   "cell_type": "markdown",
   "metadata": {},
   "source": [
    "deneme1"
   ]
  },
  {
   "cell_type": "code",
   "execution_count": 1,
   "metadata": {},
   "outputs": [
    {
     "ename": "NameError",
     "evalue": "name 'df_ed' is not defined",
     "output_type": "error",
     "traceback": [
      "\u001b[31m---------------------------------------------------------------------------\u001b[39m",
      "\u001b[31mNameError\u001b[39m                                 Traceback (most recent call last)",
      "\u001b[36mCell\u001b[39m\u001b[36m \u001b[39m\u001b[32mIn[1]\u001b[39m\u001b[32m, line 1\u001b[39m\n\u001b[32m----> \u001b[39m\u001b[32m1\u001b[39m df_ed1 = \u001b[43mdf_ed\u001b[49m.copy()\n\u001b[32m      3\u001b[39m df_ed1 = condition_degistir(df_ed1, \u001b[32m50\u001b[39m)\n\u001b[32m      5\u001b[39m df_ed1[\u001b[33m\"\u001b[39m\u001b[33mcondition\u001b[39m\u001b[33m\"\u001b[39m].value_counts()\n",
      "\u001b[31mNameError\u001b[39m: name 'df_ed' is not defined"
     ]
    }
   ],
   "source": [
    "df_ed1 = df_ed.copy()\n",
    "\n",
    "df_ed1 = condition_degistir(df_ed1, 50)\n",
    "\n",
    "df_ed1[\"condition\"].value_counts()"
   ]
  },
  {
   "cell_type": "code",
   "execution_count": 127,
   "metadata": {},
   "outputs": [
    {
     "data": {
      "text/plain": [
       "condition\n",
       "0    20674\n",
       "2       50\n",
       "Name: count, dtype: int64"
      ]
     },
     "execution_count": 127,
     "metadata": {},
     "output_type": "execute_result"
    }
   ],
   "source": [
    "fffiltered_df = df_ed1[df_ed1[\"condition\"] != 1]\n",
    "fffiltered_df[\"condition\"].value_counts()"
   ]
  },
  {
   "cell_type": "code",
   "execution_count": 128,
   "metadata": {},
   "outputs": [
    {
     "data": {
      "text/html": [
       "<div>\n",
       "<style scoped>\n",
       "    .dataframe tbody tr th:only-of-type {\n",
       "        vertical-align: middle;\n",
       "    }\n",
       "\n",
       "    .dataframe tbody tr th {\n",
       "        vertical-align: top;\n",
       "    }\n",
       "\n",
       "    .dataframe thead th {\n",
       "        text-align: right;\n",
       "    }\n",
       "</style>\n",
       "<table border=\"1\" class=\"dataframe\">\n",
       "  <thead>\n",
       "    <tr style=\"text-align: right;\">\n",
       "      <th></th>\n",
       "      <th>proba</th>\n",
       "      <th>condition</th>\n",
       "    </tr>\n",
       "  </thead>\n",
       "  <tbody>\n",
       "    <tr>\n",
       "      <th>1158969</th>\n",
       "      <td>0.041251</td>\n",
       "      <td>0</td>\n",
       "    </tr>\n",
       "    <tr>\n",
       "      <th>1158970</th>\n",
       "      <td>0.048853</td>\n",
       "      <td>0</td>\n",
       "    </tr>\n",
       "    <tr>\n",
       "      <th>1158971</th>\n",
       "      <td>0.077202</td>\n",
       "      <td>0</td>\n",
       "    </tr>\n",
       "    <tr>\n",
       "      <th>1158972</th>\n",
       "      <td>0.077949</td>\n",
       "      <td>0</td>\n",
       "    </tr>\n",
       "    <tr>\n",
       "      <th>1158973</th>\n",
       "      <td>0.085206</td>\n",
       "      <td>0</td>\n",
       "    </tr>\n",
       "    <tr>\n",
       "      <th>...</th>\n",
       "      <td>...</td>\n",
       "      <td>...</td>\n",
       "    </tr>\n",
       "    <tr>\n",
       "      <th>1181310</th>\n",
       "      <td>0.036049</td>\n",
       "      <td>0</td>\n",
       "    </tr>\n",
       "    <tr>\n",
       "      <th>1181311</th>\n",
       "      <td>0.027268</td>\n",
       "      <td>0</td>\n",
       "    </tr>\n",
       "    <tr>\n",
       "      <th>1181312</th>\n",
       "      <td>0.021923</td>\n",
       "      <td>0</td>\n",
       "    </tr>\n",
       "    <tr>\n",
       "      <th>1181313</th>\n",
       "      <td>0.019395</td>\n",
       "      <td>0</td>\n",
       "    </tr>\n",
       "    <tr>\n",
       "      <th>1181314</th>\n",
       "      <td>0.023975</td>\n",
       "      <td>0</td>\n",
       "    </tr>\n",
       "  </tbody>\n",
       "</table>\n",
       "<p>20724 rows × 2 columns</p>\n",
       "</div>"
      ],
      "text/plain": [
       "            proba  condition\n",
       "1158969  0.041251          0\n",
       "1158970  0.048853          0\n",
       "1158971  0.077202          0\n",
       "1158972  0.077949          0\n",
       "1158973  0.085206          0\n",
       "...           ...        ...\n",
       "1181310  0.036049          0\n",
       "1181311  0.027268          0\n",
       "1181312  0.021923          0\n",
       "1181313  0.019395          0\n",
       "1181314  0.023975          0\n",
       "\n",
       "[20724 rows x 2 columns]"
      ]
     },
     "execution_count": 128,
     "metadata": {},
     "output_type": "execute_result"
    }
   ],
   "source": [
    "fffiltered_df"
   ]
  },
  {
   "cell_type": "code",
   "execution_count": 120,
   "metadata": {},
   "outputs": [
    {
     "data": {
      "text/plain": [
       "condition\n",
       "0    3671\n",
       "2      50\n",
       "Name: count, dtype: int64"
      ]
     },
     "execution_count": 120,
     "metadata": {},
     "output_type": "execute_result"
    }
   ],
   "source": [
    "fffiltered_df[fffiltered_df[\"proba\"]>0.99][\"condition\"].value_counts()"
   ]
  },
  {
   "cell_type": "code",
   "execution_count": 122,
   "metadata": {},
   "outputs": [],
   "source": [
    "import pandas as pd\n",
    "import numpy as np\n",
    "\n",
    "def group_rows_by_condition(df, group_size=400):\n",
    "    \"\"\"\n",
    "    DataFrame'i belirtilen grup boyutunda (group_size) birleştirir.\n",
    "    Her grup içinde eğer herhangi bir satırın condition değeri 2 ise, \n",
    "    o gruba ait condition değeri 2 olarak atanır, aksi halde 0 olur.\n",
    "    \n",
    "    Parameters:\n",
    "    -----------\n",
    "    df : pandas.DataFrame\n",
    "        İşlenecek DataFrame. 'condition' sütunu içermelidir.\n",
    "    group_size : int, default=400\n",
    "        Her bir grubun içereceği satır sayısı\n",
    "    \n",
    "    Returns:\n",
    "    --------\n",
    "    pandas.DataFrame\n",
    "        Gruplandırılmış yeni DataFrame\n",
    "    \"\"\"\n",
    "    # Toplam satır sayısını alıyoruz\n",
    "    total_rows = len(df)\n",
    "    \n",
    "    # Kaç grup oluşacağını hesaplıyoruz (yukarı yuvarlama ile)\n",
    "    num_groups = int(np.ceil(total_rows / group_size))\n",
    "    \n",
    "    # Sonuçları depolamak için boş liste oluşturuyoruz\n",
    "    result_data = []\n",
    "    \n",
    "    for i in range(num_groups):\n",
    "        # Mevcut grubu alıyoruz\n",
    "        start_idx = i * group_size\n",
    "        end_idx = min((i + 1) * group_size, total_rows)\n",
    "        current_group = df.iloc[start_idx:end_idx]\n",
    "        \n",
    "        # Gruptaki condition değerlerini kontrol ediyoruz\n",
    "        if 2 in current_group['condition'].values:\n",
    "            group_condition = 2\n",
    "        else:\n",
    "            group_condition = 0\n",
    "        \n",
    "        # Grubun ortalama proba değerini hesaplıyoruz\n",
    "        group_proba = current_group['proba'].mean()\n",
    "        \n",
    "        # Yeni satırı sonuç listesine ekliyoruz\n",
    "        result_data.append({\n",
    "            'group_id': i,\n",
    "            'start_row': start_idx,\n",
    "            'end_row': end_idx - 1,\n",
    "            'row_count': end_idx - start_idx,\n",
    "            'proba': group_proba,\n",
    "            'condition': group_condition\n",
    "        })\n",
    "    \n",
    "    # Sonuç listesini DataFrame'e dönüştürüyoruz\n",
    "    result_df = pd.DataFrame(result_data)\n",
    "    \n",
    "    return result_df"
   ]
  },
  {
   "cell_type": "code",
   "execution_count": 178,
   "metadata": {},
   "outputs": [],
   "source": [
    "olsun = group_rows_by_condition(fffiltered_df, 100)"
   ]
  },
  {
   "cell_type": "code",
   "execution_count": 184,
   "metadata": {},
   "outputs": [
    {
     "data": {
      "text/plain": [
       "0      0.525999\n",
       "1      0.412646\n",
       "2      0.245068\n",
       "3      0.579560\n",
       "4      0.355633\n",
       "         ...   \n",
       "203    0.139722\n",
       "204    0.144320\n",
       "205    0.028219\n",
       "206    0.187546\n",
       "207    0.335685\n",
       "Name: proba, Length: 208, dtype: float64"
      ]
     },
     "execution_count": 184,
     "metadata": {},
     "output_type": "execute_result"
    }
   ],
   "source": [
    "olsun[\"proba\"]"
   ]
  },
  {
   "cell_type": "code",
   "execution_count": 186,
   "metadata": {},
   "outputs": [
    {
     "data": {
      "image/png": "[encoded data removed]",
      "text/plain": [
       "<Figure size 1000x600 with 1 Axes>"
      ]
     },
     "metadata": {},
     "output_type": "display_data"
    }
   ],
   "source": [
    "indeksler = np.arange(208)  # 0'dan 207'ye kadar indeksler\n",
    "# Gerçek verilerinizi buraya yerleştirmelisiniz, ben örnek olarak rastgele değerler kullanıyorum\n",
    "# proba = np.array([0.525999, 0.412646, 0.245068, ...]) # tüm değerler\n",
    "\n",
    "# Görselleştirme\n",
    "plt.figure(figsize=(10, 6))\n",
    "plt.scatter(indeksler, olsun[\"proba\"], alpha=0.7)\n",
    "plt.title('Proba Değerlerinin Scatter Plot Görselleştirmesi')\n",
    "plt.xlabel('İndeks')\n",
    "plt.ylabel('Olasılık Değeri')\n",
    "plt.grid(True, linestyle='--', alpha=0.7)\n",
    "\n",
    "# Görüntüyü ekranda göster\n",
    "plt.tight_layout()\n",
    "plt.show()"
   ]
  },
  {
   "cell_type": "code",
   "execution_count": 182,
   "metadata": {},
   "outputs": [
    {
     "data": {
      "text/plain": [
       "113    0\n",
       "114    0\n",
       "115    0\n",
       "116    0\n",
       "117    0\n",
       "118    0\n",
       "119    0\n",
       "120    2\n",
       "Name: condition, dtype: int64"
      ]
     },
     "execution_count": 182,
     "metadata": {},
     "output_type": "execute_result"
    }
   ],
   "source": [
    "olsun[olsun[\"proba\"]>0.99][\"condition\"]"
   ]
  },
  {
   "cell_type": "code",
   "execution_count": null,
   "metadata": {},
   "outputs": [],
   "source": []
  },
  {
   "cell_type": "code",
   "execution_count": null,
   "metadata": {},
   "outputs": [],
   "source": []
  }
 ],
 "metadata": {
  "kernelspec": {
   "display_name": "Python 3",
   "language": "python",
   "name": "python3"
  },
  "language_info": {
   "codemirror_mode": {
    "name": "ipython",
    "version": 3
   },
   "file_extension": ".py",
   "mimetype": "text/x-python",
   "name": "python",
   "nbconvert_exporter": "python",
   "pygments_lexer": "ipython3",
   "version": "3.13.1"
  },
  "vscode": {
   "interpreter": {
    "hash": "a5f44439766e47113308a61c45e3ba0ce79cefad900abb614d22e5ec5db7fbe0"
   }
  }
 },
 "nbformat": 4,
 "nbformat_minor": 2
}
