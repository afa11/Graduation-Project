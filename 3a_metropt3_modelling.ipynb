{
 "cells": [
  {
   "cell_type": "code",
   "execution_count": 26,
   "metadata": {},
   "outputs": [],
   "source": [
    "import pandas as pd\n",
    "import importlib\n",
    "import mpt_functions as mpt\n",
    "importlib.reload(mpt)\n",
    "import seaborn as sns\n",
    "import matplotlib.pyplot as plt\n",
    "import numpy as np\n",
    "from scipy import stats\n",
    "from sklearn.preprocessing import StandardScaler\n",
    "from sklearn.cluster import KMeans\n",
    "from sklearn.decomposition import PCA\n",
    "from imblearn.over_sampling import SMOTE"
   ]
  },
  {
   "cell_type": "code",
   "execution_count": 11,
   "metadata": {},
   "outputs": [],
   "source": [
    "path = \"/Users/abdullahfurkanarslan/Desktop/metropt+3+dataset 2/MetroPT3(AirCompressor).csv\"\n",
    "df = mpt.get_the_data_and_convert_datetime(path)"
   ]
  },
  {
   "cell_type": "code",
   "execution_count": 12,
   "metadata": {},
   "outputs": [],
   "source": [
    "df = mpt.drop_a_column(df, \"Unnamed: 0\")"
   ]
  },
  {
   "cell_type": "code",
   "execution_count": 13,
   "metadata": {},
   "outputs": [],
   "source": [
    "f1_start = \"2020-04-18 00:00:00\"\n",
    "f1_finish = \"2020-04-18 23:59:00\"\n",
    "f2_start = \"2020-05-29 23:30:00\"\n",
    "f2_finish = \"2020-05-30 06:00:00\"\n",
    "f3_start = \"2020-06-05 10:00:00\"\n",
    "f3_finish = \"2020-06-07 14:30:00\"\n",
    "f4_start = \"2020-07-15 14:30:00\"\n",
    "f4_finish = \"2020-07-15 19:00:00\""
   ]
  },
  {
   "cell_type": "code",
   "execution_count": 14,
   "metadata": {},
   "outputs": [],
   "source": [
    "df = df.assign(condition=0)\n",
    "df = mpt.change_the_values_by_applying_a_time_filter(df, f1_start, f1_finish, \"condition\", 1)\n",
    "df = mpt.change_the_values_by_applying_a_time_filter(df, f2_start, f2_finish, \"condition\", 1)\n",
    "df = mpt.change_the_values_by_applying_a_time_filter(df, f3_start, f3_finish, \"condition\", 1)\n",
    "df = mpt.change_the_values_by_applying_a_time_filter(df, f4_start, f4_finish, \"condition\", 1)"
   ]
  },
  {
   "cell_type": "code",
   "execution_count": 15,
   "metadata": {},
   "outputs": [],
   "source": [
    "df[\"day_number\"] = df.index + 1"
   ]
  },
  {
   "cell_type": "code",
   "execution_count": 16,
   "metadata": {},
   "outputs": [],
   "source": [
    "df  = mpt.counter_for_maintenance(df , \"2020-02-01 00:00:00\", f1_finish)\n",
    "df  = mpt.counter_for_maintenance(df , f1_finish, f2_finish)\n",
    "df  = mpt.counter_for_maintenance(df , f2_finish, f3_finish)\n",
    "df  = mpt.counter_for_maintenance(df , f3_finish, f4_finish)\n",
    "df = mpt.counter_for_maintenance(df, f4_finish, \"2020-09-01 03:59:51\")"
   ]
  },
  {
   "cell_type": "code",
   "execution_count": 17,
   "metadata": {},
   "outputs": [],
   "source": [
    "all_column_names = df.columns.to_list()\n",
    "\n",
    "name_of_the_categorical_columns = ['COMP', 'DV_eletric', 'Towers',\n",
    "       'MPG', 'LPS', 'Pressure_switch', 'Oil_level', 'Caudal_impulses']\n",
    "\n",
    "name_of_the_numerical_columns =[\"counter\",'day_number','TP2', 'TP3', 'H1', 'DV_pressure', 'Reservoirs',\n",
    "       'Oil_temperature', 'Motor_current']\n",
    "\n",
    "target_column = df[\"condition\"]"
   ]
  },
  {
   "cell_type": "code",
   "execution_count": 18,
   "metadata": {},
   "outputs": [
    {
     "data": {
      "text/html": [
       "<div>\n",
       "<style scoped>\n",
       "    .dataframe tbody tr th:only-of-type {\n",
       "        vertical-align: middle;\n",
       "    }\n",
       "\n",
       "    .dataframe tbody tr th {\n",
       "        vertical-align: top;\n",
       "    }\n",
       "\n",
       "    .dataframe thead th {\n",
       "        text-align: right;\n",
       "    }\n",
       "</style>\n",
       "<table border=\"1\" class=\"dataframe\">\n",
       "  <thead>\n",
       "    <tr style=\"text-align: right;\">\n",
       "      <th></th>\n",
       "      <th>timestamp</th>\n",
       "      <th>TP2</th>\n",
       "      <th>TP3</th>\n",
       "      <th>H1</th>\n",
       "      <th>DV_pressure</th>\n",
       "      <th>Reservoirs</th>\n",
       "      <th>Oil_temperature</th>\n",
       "      <th>Motor_current</th>\n",
       "      <th>COMP</th>\n",
       "      <th>DV_eletric</th>\n",
       "      <th>Towers</th>\n",
       "      <th>MPG</th>\n",
       "      <th>LPS</th>\n",
       "      <th>Pressure_switch</th>\n",
       "      <th>Oil_level</th>\n",
       "      <th>Caudal_impulses</th>\n",
       "      <th>condition</th>\n",
       "      <th>day_number</th>\n",
       "      <th>counter</th>\n",
       "    </tr>\n",
       "  </thead>\n",
       "  <tbody>\n",
       "    <tr>\n",
       "      <th>0</th>\n",
       "      <td>2020-02-01 00:00:00</td>\n",
       "      <td>-0.424441</td>\n",
       "      <td>0.584247</td>\n",
       "      <td>0.531575</td>\n",
       "      <td>-0.20909</td>\n",
       "      <td>0.583993</td>\n",
       "      <td>-1.387941</td>\n",
       "      <td>-0.873208</td>\n",
       "      <td>1.0</td>\n",
       "      <td>0.0</td>\n",
       "      <td>1.0</td>\n",
       "      <td>1.0</td>\n",
       "      <td>0.0</td>\n",
       "      <td>1.0</td>\n",
       "      <td>1.0</td>\n",
       "      <td>1.0</td>\n",
       "      <td>0</td>\n",
       "      <td>-1.732050</td>\n",
       "      <td>-1.372743</td>\n",
       "    </tr>\n",
       "    <tr>\n",
       "      <th>1</th>\n",
       "      <td>2020-02-01 00:00:10</td>\n",
       "      <td>-0.425056</td>\n",
       "      <td>0.568600</td>\n",
       "      <td>0.529175</td>\n",
       "      <td>-0.20386</td>\n",
       "      <td>0.568326</td>\n",
       "      <td>-1.376431</td>\n",
       "      <td>-0.873208</td>\n",
       "      <td>1.0</td>\n",
       "      <td>0.0</td>\n",
       "      <td>1.0</td>\n",
       "      <td>1.0</td>\n",
       "      <td>0.0</td>\n",
       "      <td>1.0</td>\n",
       "      <td>1.0</td>\n",
       "      <td>1.0</td>\n",
       "      <td>0</td>\n",
       "      <td>-1.732047</td>\n",
       "      <td>-1.372736</td>\n",
       "    </tr>\n",
       "    <tr>\n",
       "      <th>2</th>\n",
       "      <td>2020-02-01 00:00:19</td>\n",
       "      <td>-0.424441</td>\n",
       "      <td>0.552953</td>\n",
       "      <td>0.526175</td>\n",
       "      <td>-0.20386</td>\n",
       "      <td>0.552660</td>\n",
       "      <td>-1.387941</td>\n",
       "      <td>-0.872122</td>\n",
       "      <td>1.0</td>\n",
       "      <td>0.0</td>\n",
       "      <td>1.0</td>\n",
       "      <td>1.0</td>\n",
       "      <td>0.0</td>\n",
       "      <td>1.0</td>\n",
       "      <td>1.0</td>\n",
       "      <td>1.0</td>\n",
       "      <td>0</td>\n",
       "      <td>-1.732045</td>\n",
       "      <td>-1.372729</td>\n",
       "    </tr>\n",
       "    <tr>\n",
       "      <th>3</th>\n",
       "      <td>2020-02-01 00:00:29</td>\n",
       "      <td>-0.424441</td>\n",
       "      <td>0.537306</td>\n",
       "      <td>0.523175</td>\n",
       "      <td>-0.20386</td>\n",
       "      <td>0.536993</td>\n",
       "      <td>-1.414797</td>\n",
       "      <td>-0.873208</td>\n",
       "      <td>1.0</td>\n",
       "      <td>0.0</td>\n",
       "      <td>1.0</td>\n",
       "      <td>1.0</td>\n",
       "      <td>0.0</td>\n",
       "      <td>1.0</td>\n",
       "      <td>1.0</td>\n",
       "      <td>1.0</td>\n",
       "      <td>0</td>\n",
       "      <td>-1.732043</td>\n",
       "      <td>-1.372722</td>\n",
       "    </tr>\n",
       "    <tr>\n",
       "      <th>4</th>\n",
       "      <td>2020-02-01 00:00:39</td>\n",
       "      <td>-0.424441</td>\n",
       "      <td>0.521659</td>\n",
       "      <td>0.520175</td>\n",
       "      <td>-0.20386</td>\n",
       "      <td>0.521327</td>\n",
       "      <td>-1.407124</td>\n",
       "      <td>-0.873208</td>\n",
       "      <td>1.0</td>\n",
       "      <td>0.0</td>\n",
       "      <td>1.0</td>\n",
       "      <td>1.0</td>\n",
       "      <td>0.0</td>\n",
       "      <td>1.0</td>\n",
       "      <td>1.0</td>\n",
       "      <td>1.0</td>\n",
       "      <td>0</td>\n",
       "      <td>-1.732041</td>\n",
       "      <td>-1.372715</td>\n",
       "    </tr>\n",
       "  </tbody>\n",
       "</table>\n",
       "</div>"
      ],
      "text/plain": [
       "            timestamp       TP2       TP3        H1  DV_pressure  Reservoirs  \\\n",
       "0 2020-02-01 00:00:00 -0.424441  0.584247  0.531575     -0.20909    0.583993   \n",
       "1 2020-02-01 00:00:10 -0.425056  0.568600  0.529175     -0.20386    0.568326   \n",
       "2 2020-02-01 00:00:19 -0.424441  0.552953  0.526175     -0.20386    0.552660   \n",
       "3 2020-02-01 00:00:29 -0.424441  0.537306  0.523175     -0.20386    0.536993   \n",
       "4 2020-02-01 00:00:39 -0.424441  0.521659  0.520175     -0.20386    0.521327   \n",
       "\n",
       "   Oil_temperature  Motor_current  COMP  DV_eletric  Towers  MPG  LPS  \\\n",
       "0        -1.387941      -0.873208   1.0         0.0     1.0  1.0  0.0   \n",
       "1        -1.376431      -0.873208   1.0         0.0     1.0  1.0  0.0   \n",
       "2        -1.387941      -0.872122   1.0         0.0     1.0  1.0  0.0   \n",
       "3        -1.414797      -0.873208   1.0         0.0     1.0  1.0  0.0   \n",
       "4        -1.407124      -0.873208   1.0         0.0     1.0  1.0  0.0   \n",
       "\n",
       "   Pressure_switch  Oil_level  Caudal_impulses  condition  day_number  \\\n",
       "0              1.0        1.0              1.0          0   -1.732050   \n",
       "1              1.0        1.0              1.0          0   -1.732047   \n",
       "2              1.0        1.0              1.0          0   -1.732045   \n",
       "3              1.0        1.0              1.0          0   -1.732043   \n",
       "4              1.0        1.0              1.0          0   -1.732041   \n",
       "\n",
       "    counter  \n",
       "0 -1.372743  \n",
       "1 -1.372736  \n",
       "2 -1.372729  \n",
       "3 -1.372722  \n",
       "4 -1.372715  "
      ]
     },
     "execution_count": 18,
     "metadata": {},
     "output_type": "execute_result"
    }
   ],
   "source": [
    "df_scaled = mpt.scale_columns(df, name_of_the_numerical_columns)\n",
    "df_scaled.head()"
   ]
  },
  {
   "cell_type": "code",
   "execution_count": 19,
   "metadata": {},
   "outputs": [
    {
     "data": {
      "text/plain": [
       "Cluster\n",
       "3    471682\n",
       "1    433225\n",
       "0    374256\n",
       "2    188251\n",
       "4     49534\n",
       "Name: count, dtype: int64"
      ]
     },
     "execution_count": 19,
     "metadata": {},
     "output_type": "execute_result"
    }
   ],
   "source": [
    "df_clustered = mpt.apply_kmeans_clustering(df_scaled, 5, \"condition\")\n",
    "df_clustered[\"Cluster\"].value_counts()"
   ]
  },
  {
   "cell_type": "code",
   "execution_count": 20,
   "metadata": {},
   "outputs": [
    {
     "data": {
      "image/png": "[encoded data removed]",
      "text/plain": [
       "<Figure size 1000x500 with 1 Axes>"
      ]
     },
     "metadata": {},
     "output_type": "display_data"
    }
   ],
   "source": [
    "mpt.plot_columns(mpt.filter_rows_between_the_given_timestamps(df_clustered, \"2020-06-15 09:30:00\", f4_finish), \"timestamp\", \"Cluster\")"
   ]
  },
  {
   "cell_type": "code",
   "execution_count": 21,
   "metadata": {},
   "outputs": [
    {
     "name": "stdout",
     "output_type": "stream",
     "text": [
      "\n",
      "Cluster Distribution by Condition:\n",
      " condition       0      1\n",
      "Cluster                 \n",
      "0          374251      5\n",
      "1          433165     60\n",
      "2          186658   1593\n",
      "3          471591     91\n",
      "4           21329  28205\n"
     ]
    },
    {
     "data": {
      "text/html": [
       "<div>\n",
       "<style scoped>\n",
       "    .dataframe tbody tr th:only-of-type {\n",
       "        vertical-align: middle;\n",
       "    }\n",
       "\n",
       "    .dataframe tbody tr th {\n",
       "        vertical-align: top;\n",
       "    }\n",
       "\n",
       "    .dataframe thead th {\n",
       "        text-align: right;\n",
       "    }\n",
       "</style>\n",
       "<table border=\"1\" class=\"dataframe\">\n",
       "  <thead>\n",
       "    <tr style=\"text-align: right;\">\n",
       "      <th>condition</th>\n",
       "      <th>0</th>\n",
       "      <th>1</th>\n",
       "    </tr>\n",
       "    <tr>\n",
       "      <th>Cluster</th>\n",
       "      <th></th>\n",
       "      <th></th>\n",
       "    </tr>\n",
       "  </thead>\n",
       "  <tbody>\n",
       "    <tr>\n",
       "      <th>0</th>\n",
       "      <td>374251</td>\n",
       "      <td>5</td>\n",
       "    </tr>\n",
       "    <tr>\n",
       "      <th>1</th>\n",
       "      <td>433165</td>\n",
       "      <td>60</td>\n",
       "    </tr>\n",
       "    <tr>\n",
       "      <th>2</th>\n",
       "      <td>186658</td>\n",
       "      <td>1593</td>\n",
       "    </tr>\n",
       "    <tr>\n",
       "      <th>3</th>\n",
       "      <td>471591</td>\n",
       "      <td>91</td>\n",
       "    </tr>\n",
       "    <tr>\n",
       "      <th>4</th>\n",
       "      <td>21329</td>\n",
       "      <td>28205</td>\n",
       "    </tr>\n",
       "  </tbody>\n",
       "</table>\n",
       "</div>"
      ],
      "text/plain": [
       "condition       0      1\n",
       "Cluster                 \n",
       "0          374251      5\n",
       "1          433165     60\n",
       "2          186658   1593\n",
       "3          471591     91\n",
       "4           21329  28205"
      ]
     },
     "execution_count": 21,
     "metadata": {},
     "output_type": "execute_result"
    }
   ],
   "source": [
    "mpt.check_cluster_distribution(df_clustered, \"condition\", \"Cluster\")"
   ]
  },
  {
   "cell_type": "code",
   "execution_count": 22,
   "metadata": {},
   "outputs": [],
   "source": [
    "df_last = mpt.drop_a_column(df_clustered, \"timestamp\")"
   ]
  },
  {
   "cell_type": "markdown",
   "metadata": {},
   "source": [
    "Until Here, everystep was clear to do"
   ]
  },
  {
   "cell_type": "markdown",
   "metadata": {},
   "source": [
    "*SMOTE*"
   ]
  },
  {
   "cell_type": "code",
   "execution_count": 23,
   "metadata": {},
   "outputs": [],
   "source": [
    "dfa = df_last.copy()"
   ]
  },
  {
   "cell_type": "code",
   "execution_count": 24,
   "metadata": {},
   "outputs": [
    {
     "name": "stdout",
     "output_type": "stream",
     "text": [
      "Before :  condition\n",
      "0    1486994\n",
      "1      29954\n",
      "Name: count, dtype: int64\n",
      "After :  condition\n",
      "0    1486994\n",
      "1    1486994\n",
      "Name: count, dtype: int64\n"
     ]
    }
   ],
   "source": [
    "dfa = mpt.apply_smote(dfa, \"condition\", 11)"
   ]
  },
  {
   "cell_type": "code",
   "execution_count": 27,
   "metadata": {},
   "outputs": [
    {
     "name": "stdout",
     "output_type": "stream",
     "text": [
      "Accuracy: 1.0000\n",
      "F1 Score: 1.0000\n",
      "Confusion Matrix:\n",
      "[[490228      1]\n",
      " [     1 491187]]\n",
      "            Feature  Importance\n",
      "3       DV_pressure    0.245724\n",
      "17          Cluster    0.196491\n",
      "5   Oil_temperature    0.178357\n",
      "0               TP2    0.102038\n",
      "2                H1    0.077871\n",
      "6     Motor_current    0.054171\n",
      "8        DV_eletric    0.050016\n",
      "4        Reservoirs    0.020147\n",
      "15       day_number    0.019057\n",
      "16          counter    0.016709\n",
      "10              MPG    0.014739\n",
      "1               TP3    0.013781\n",
      "7              COMP    0.008716\n",
      "11              LPS    0.001950\n",
      "14  Caudal_impulses    0.000113\n",
      "13        Oil_level    0.000080\n",
      "9            Towers    0.000020\n",
      "12  Pressure_switch    0.000018\n"
     ]
    },
    {
     "data": {
      "text/plain": [
       "(RandomForestClassifier(random_state=10), 0.9999979621302667)"
      ]
     },
     "execution_count": 27,
     "metadata": {},
     "output_type": "execute_result"
    }
   ],
   "source": [
    "mpt.apply_random_forest_and_get_results(dfa, \"condition\")"
   ]
  },
  {
   "cell_type": "markdown",
   "metadata": {},
   "source": [
    "*Imbalanced Dataset*"
   ]
  },
  {
   "cell_type": "code",
   "execution_count": 28,
   "metadata": {},
   "outputs": [],
   "source": [
    "dfb = df_last.copy()"
   ]
  },
  {
   "cell_type": "code",
   "execution_count": 29,
   "metadata": {},
   "outputs": [
    {
     "name": "stdout",
     "output_type": "stream",
     "text": [
      "Accuracy: 1.0000\n",
      "F1 Score: 1.0000\n",
      "Confusion Matrix:\n",
      "[[490590      0]\n",
      " [     6   9997]]\n",
      "            Feature  Importance\n",
      "17          Cluster    0.198925\n",
      "3       DV_pressure    0.173232\n",
      "16          counter    0.167814\n",
      "5   Oil_temperature    0.157835\n",
      "15       day_number    0.105008\n",
      "1               TP3    0.059333\n",
      "4        Reservoirs    0.053786\n",
      "0               TP2    0.027444\n",
      "2                H1    0.022995\n",
      "6     Motor_current    0.021336\n",
      "8        DV_eletric    0.006524\n",
      "10              MPG    0.002297\n",
      "11              LPS    0.001664\n",
      "7              COMP    0.001520\n",
      "13        Oil_level    0.000179\n",
      "9            Towers    0.000064\n",
      "14  Caudal_impulses    0.000040\n",
      "12  Pressure_switch    0.000005\n"
     ]
    },
    {
     "data": {
      "text/plain": [
       "(RandomForestClassifier(random_state=10), 0.9999880142151408)"
      ]
     },
     "execution_count": 29,
     "metadata": {},
     "output_type": "execute_result"
    }
   ],
   "source": [
    "mpt.apply_random_forest_and_get_results(dfb, \"condition\")"
   ]
  },
  {
   "cell_type": "markdown",
   "metadata": {},
   "source": [
    "Imbalanced - Withouy Day Number"
   ]
  },
  {
   "cell_type": "code",
   "execution_count": 30,
   "metadata": {},
   "outputs": [],
   "source": [
    "dfc = mpt.drop_a_column(dfb, \"day_number\")"
   ]
  },
  {
   "cell_type": "code",
   "execution_count": 31,
   "metadata": {},
   "outputs": [
    {
     "name": "stdout",
     "output_type": "stream",
     "text": [
      "Accuracy: 1.0000\n",
      "F1 Score: 1.0000\n",
      "Confusion Matrix:\n",
      "[[490590      0]\n",
      " [     6   9997]]\n",
      "            Feature  Importance\n",
      "15          counter    0.195571\n",
      "3       DV_pressure    0.191998\n",
      "16          Cluster    0.186105\n",
      "5   Oil_temperature    0.171292\n",
      "4        Reservoirs    0.083107\n",
      "1               TP3    0.072190\n",
      "0               TP2    0.043136\n",
      "6     Motor_current    0.021319\n",
      "2                H1    0.018602\n",
      "8        DV_eletric    0.007859\n",
      "7              COMP    0.003901\n",
      "10              MPG    0.002890\n",
      "11              LPS    0.001430\n",
      "14  Caudal_impulses    0.000239\n",
      "12  Pressure_switch    0.000175\n",
      "9            Towers    0.000106\n",
      "13        Oil_level    0.000079\n"
     ]
    },
    {
     "data": {
      "text/plain": [
       "(RandomForestClassifier(random_state=10), 0.9999880142151408)"
      ]
     },
     "execution_count": 31,
     "metadata": {},
     "output_type": "execute_result"
    }
   ],
   "source": [
    "mpt.apply_random_forest_and_get_results(dfc, \"condition\")"
   ]
  },
  {
   "cell_type": "code",
   "execution_count": null,
   "metadata": {},
   "outputs": [],
   "source": []
  }
 ],
 "metadata": {
  "kernelspec": {
   "display_name": "Python 3",
   "language": "python",
   "name": "python3"
  },
  "language_info": {
   "codemirror_mode": {
    "name": "ipython",
    "version": 3
   },
   "file_extension": ".py",
   "mimetype": "text/x-python",
   "name": "python",
   "nbconvert_exporter": "python",
   "pygments_lexer": "ipython3",
   "version": "3.13.1"
  }
 },
 "nbformat": 4,
 "nbformat_minor": 2
}
