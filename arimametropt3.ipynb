{
 "cells": [
  {
   "cell_type": "code",
   "execution_count": 39,
   "metadata": {},
   "outputs": [
    {
     "data": {
      "text/plain": [
       "<module 'mpt_functions' from 'd:\\\\Code\\\\Graduation-Project\\\\mpt_functions.py'>"
      ]
     },
     "execution_count": 39,
     "metadata": {},
     "output_type": "execute_result"
    }
   ],
   "source": [
    "import pandas as pd\n",
    "import numpy as np\n",
    "import matplotlib.pyplot as plt\n",
    "from statsmodels.tsa.arima.model import ARIMA\n",
    "from statsmodels.tsa.stattools import adfuller\n",
    "import pmdarima as pm\n",
    "import random\n",
    "import importlib\n",
    "import mpt_functions as mpt\n",
    "importlib.reload(mpt)"
   ]
  },
  {
   "cell_type": "code",
   "execution_count": 129,
   "metadata": {},
   "outputs": [
    {
     "data": {
      "text/html": [
       "<div>\n",
       "<style scoped>\n",
       "    .dataframe tbody tr th:only-of-type {\n",
       "        vertical-align: middle;\n",
       "    }\n",
       "\n",
       "    .dataframe tbody tr th {\n",
       "        vertical-align: top;\n",
       "    }\n",
       "\n",
       "    .dataframe thead th {\n",
       "        text-align: right;\n",
       "    }\n",
       "</style>\n",
       "<table border=\"1\" class=\"dataframe\">\n",
       "  <thead>\n",
       "    <tr style=\"text-align: right;\">\n",
       "      <th></th>\n",
       "      <th>timestamp</th>\n",
       "      <th>TP2</th>\n",
       "      <th>TP3</th>\n",
       "      <th>H1</th>\n",
       "      <th>DV_pressure</th>\n",
       "      <th>Reservoirs</th>\n",
       "      <th>Oil_temperature</th>\n",
       "      <th>Motor_current</th>\n",
       "      <th>COMP</th>\n",
       "      <th>DV_eletric</th>\n",
       "      <th>Towers</th>\n",
       "      <th>MPG</th>\n",
       "      <th>LPS</th>\n",
       "      <th>Pressure_switch</th>\n",
       "      <th>Oil_level</th>\n",
       "      <th>Caudal_impulses</th>\n",
       "      <th>status</th>\n",
       "    </tr>\n",
       "  </thead>\n",
       "  <tbody>\n",
       "    <tr>\n",
       "      <th>0</th>\n",
       "      <td>2020-04-18 00:00:01</td>\n",
       "      <td>-0.018</td>\n",
       "      <td>8.248</td>\n",
       "      <td>8.238</td>\n",
       "      <td>-0.024</td>\n",
       "      <td>8.248</td>\n",
       "      <td>49.45</td>\n",
       "      <td>0.04</td>\n",
       "      <td>1.0</td>\n",
       "      <td>0.0</td>\n",
       "      <td>1.0</td>\n",
       "      <td>1.0</td>\n",
       "      <td>0.0</td>\n",
       "      <td>1.0</td>\n",
       "      <td>1.0</td>\n",
       "      <td>1.0</td>\n",
       "      <td>1</td>\n",
       "    </tr>\n",
       "    <tr>\n",
       "      <th>1</th>\n",
       "      <td>2020-04-18 00:00:13</td>\n",
       "      <td>-0.018</td>\n",
       "      <td>8.248</td>\n",
       "      <td>8.238</td>\n",
       "      <td>-0.024</td>\n",
       "      <td>8.248</td>\n",
       "      <td>49.45</td>\n",
       "      <td>0.04</td>\n",
       "      <td>1.0</td>\n",
       "      <td>0.0</td>\n",
       "      <td>1.0</td>\n",
       "      <td>1.0</td>\n",
       "      <td>0.0</td>\n",
       "      <td>1.0</td>\n",
       "      <td>1.0</td>\n",
       "      <td>1.0</td>\n",
       "      <td>1</td>\n",
       "    </tr>\n",
       "    <tr>\n",
       "      <th>2</th>\n",
       "      <td>2020-04-18 00:00:24</td>\n",
       "      <td>-0.018</td>\n",
       "      <td>8.248</td>\n",
       "      <td>8.238</td>\n",
       "      <td>-0.024</td>\n",
       "      <td>8.248</td>\n",
       "      <td>49.45</td>\n",
       "      <td>0.04</td>\n",
       "      <td>1.0</td>\n",
       "      <td>0.0</td>\n",
       "      <td>1.0</td>\n",
       "      <td>1.0</td>\n",
       "      <td>0.0</td>\n",
       "      <td>1.0</td>\n",
       "      <td>1.0</td>\n",
       "      <td>1.0</td>\n",
       "      <td>1</td>\n",
       "    </tr>\n",
       "    <tr>\n",
       "      <th>3</th>\n",
       "      <td>2020-04-18 00:00:36</td>\n",
       "      <td>-0.018</td>\n",
       "      <td>8.248</td>\n",
       "      <td>8.238</td>\n",
       "      <td>-0.024</td>\n",
       "      <td>8.248</td>\n",
       "      <td>49.45</td>\n",
       "      <td>0.04</td>\n",
       "      <td>0.0</td>\n",
       "      <td>0.0</td>\n",
       "      <td>0.0</td>\n",
       "      <td>0.0</td>\n",
       "      <td>0.0</td>\n",
       "      <td>0.0</td>\n",
       "      <td>0.0</td>\n",
       "      <td>0.0</td>\n",
       "      <td>1</td>\n",
       "    </tr>\n",
       "    <tr>\n",
       "      <th>4</th>\n",
       "      <td>2020-04-18 00:00:49</td>\n",
       "      <td>-0.018</td>\n",
       "      <td>8.248</td>\n",
       "      <td>8.238</td>\n",
       "      <td>-0.024</td>\n",
       "      <td>8.248</td>\n",
       "      <td>49.45</td>\n",
       "      <td>0.04</td>\n",
       "      <td>1.0</td>\n",
       "      <td>0.0</td>\n",
       "      <td>1.0</td>\n",
       "      <td>1.0</td>\n",
       "      <td>0.0</td>\n",
       "      <td>1.0</td>\n",
       "      <td>1.0</td>\n",
       "      <td>1.0</td>\n",
       "      <td>1</td>\n",
       "    </tr>\n",
       "  </tbody>\n",
       "</table>\n",
       "</div>"
      ],
      "text/plain": [
       "            timestamp    TP2    TP3     H1  DV_pressure  Reservoirs  \\\n",
       "0 2020-04-18 00:00:01 -0.018  8.248  8.238       -0.024       8.248   \n",
       "1 2020-04-18 00:00:13 -0.018  8.248  8.238       -0.024       8.248   \n",
       "2 2020-04-18 00:00:24 -0.018  8.248  8.238       -0.024       8.248   \n",
       "3 2020-04-18 00:00:36 -0.018  8.248  8.238       -0.024       8.248   \n",
       "4 2020-04-18 00:00:49 -0.018  8.248  8.238       -0.024       8.248   \n",
       "\n",
       "   Oil_temperature  Motor_current  COMP  DV_eletric  Towers  MPG  LPS  \\\n",
       "0            49.45           0.04   1.0         0.0     1.0  1.0  0.0   \n",
       "1            49.45           0.04   1.0         0.0     1.0  1.0  0.0   \n",
       "2            49.45           0.04   1.0         0.0     1.0  1.0  0.0   \n",
       "3            49.45           0.04   0.0         0.0     0.0  0.0  0.0   \n",
       "4            49.45           0.04   1.0         0.0     1.0  1.0  0.0   \n",
       "\n",
       "   Pressure_switch  Oil_level  Caudal_impulses  status  \n",
       "0              1.0        1.0              1.0       1  \n",
       "1              1.0        1.0              1.0       1  \n",
       "2              1.0        1.0              1.0       1  \n",
       "3              0.0        0.0              0.0       1  \n",
       "4              1.0        1.0              1.0       1  "
      ]
     },
     "execution_count": 129,
     "metadata": {},
     "output_type": "execute_result"
    }
   ],
   "source": [
    "path = \"C:/Users/bilge/Downloads/Group_14_Clean_Data.csv\"\n",
    "df = mpt.get_the_data_and_convert_datetime(path)\n",
    "df = mpt.drop_a_column(df, \"Unnamed: 0\")\n",
    "df.head()"
   ]
  },
  {
   "cell_type": "code",
   "execution_count": 130,
   "metadata": {},
   "outputs": [],
   "source": [
    "df_day1 = mpt.filter_a_day(\"2020-03-01\", df)  \n",
    "df_minute = mpt.aggregate_as_a_minute(df_day1)\n",
    "\n",
    "# Ensure timestamp is datetime and set as index\n",
    "df_minute['timestamp'] = pd.to_datetime(df_minute['timestamp'])\n",
    "df_minute = df_minute.set_index('timestamp')\n",
    "\n",
    "# Select DV_pressure and resample per second\n",
    "df_pressure = df_minute[['DV_pressure']]\n",
    "\n",
    "# Downsample to 1-minute intervals\n",
    "df_resampled = df_pressure.resample('1T').mean().dropna()"
   ]
  },
  {
   "cell_type": "code",
   "execution_count": 131,
   "metadata": {},
   "outputs": [
    {
     "data": {
      "text/html": [
       "<div>\n",
       "<style scoped>\n",
       "    .dataframe tbody tr th:only-of-type {\n",
       "        vertical-align: middle;\n",
       "    }\n",
       "\n",
       "    .dataframe tbody tr th {\n",
       "        vertical-align: top;\n",
       "    }\n",
       "\n",
       "    .dataframe thead th {\n",
       "        text-align: right;\n",
       "    }\n",
       "</style>\n",
       "<table border=\"1\" class=\"dataframe\">\n",
       "  <thead>\n",
       "    <tr style=\"text-align: right;\">\n",
       "      <th></th>\n",
       "      <th>DV_pressure</th>\n",
       "    </tr>\n",
       "    <tr>\n",
       "      <th>timestamp</th>\n",
       "      <th></th>\n",
       "    </tr>\n",
       "  </thead>\n",
       "  <tbody>\n",
       "    <tr>\n",
       "      <th>2020-03-01 04:00:00</th>\n",
       "      <td>-0.026</td>\n",
       "    </tr>\n",
       "    <tr>\n",
       "      <th>2020-03-01 04:04:00</th>\n",
       "      <td>-0.026</td>\n",
       "    </tr>\n",
       "    <tr>\n",
       "      <th>2020-03-01 04:05:00</th>\n",
       "      <td>-0.026</td>\n",
       "    </tr>\n",
       "    <tr>\n",
       "      <th>2020-03-01 04:09:00</th>\n",
       "      <td>-0.022</td>\n",
       "    </tr>\n",
       "    <tr>\n",
       "      <th>2020-03-01 04:13:00</th>\n",
       "      <td>-0.026</td>\n",
       "    </tr>\n",
       "  </tbody>\n",
       "</table>\n",
       "</div>"
      ],
      "text/plain": [
       "                     DV_pressure\n",
       "timestamp                       \n",
       "2020-03-01 04:00:00       -0.026\n",
       "2020-03-01 04:04:00       -0.026\n",
       "2020-03-01 04:05:00       -0.026\n",
       "2020-03-01 04:09:00       -0.022\n",
       "2020-03-01 04:13:00       -0.026"
      ]
     },
     "execution_count": 131,
     "metadata": {},
     "output_type": "execute_result"
    }
   ],
   "source": [
    "df_resampled.head()"
   ]
  },
  {
   "cell_type": "code",
   "execution_count": 132,
   "metadata": {},
   "outputs": [
    {
     "name": "stdout",
     "output_type": "stream",
     "text": [
      "ADF Statistic: -11.977802066364049\n",
      "p-value: 3.765940682494073e-22\n"
     ]
    }
   ],
   "source": [
    "# Augmented Dickey-Fuller test for stationarity\n",
    "adf_test = adfuller(df_resampled)\n",
    "print(f\"ADF Statistic: {adf_test[0]}\")\n",
    "print(f\"p-value: {adf_test[1]}\")\n",
    "if adf_test[1] > 0.05:\n",
    "    print(\"Data is non-stationary. Differencing needed.\")\n",
    "    df_resampled = df_resampled.diff().dropna()"
   ]
  },
  {
   "cell_type": "code",
   "execution_count": 133,
   "metadata": {},
   "outputs": [
    {
     "data": {
      "text/html": [
       "<div>\n",
       "<style scoped>\n",
       "    .dataframe tbody tr th:only-of-type {\n",
       "        vertical-align: middle;\n",
       "    }\n",
       "\n",
       "    .dataframe tbody tr th {\n",
       "        vertical-align: top;\n",
       "    }\n",
       "\n",
       "    .dataframe thead th {\n",
       "        text-align: right;\n",
       "    }\n",
       "</style>\n",
       "<table border=\"1\" class=\"dataframe\">\n",
       "  <thead>\n",
       "    <tr style=\"text-align: right;\">\n",
       "      <th></th>\n",
       "      <th>DV_pressure</th>\n",
       "    </tr>\n",
       "    <tr>\n",
       "      <th>timestamp</th>\n",
       "      <th></th>\n",
       "    </tr>\n",
       "  </thead>\n",
       "  <tbody>\n",
       "    <tr>\n",
       "      <th>2020-03-01 04:00:00</th>\n",
       "      <td>-0.026</td>\n",
       "    </tr>\n",
       "    <tr>\n",
       "      <th>2020-03-01 04:04:00</th>\n",
       "      <td>-0.026</td>\n",
       "    </tr>\n",
       "    <tr>\n",
       "      <th>2020-03-01 04:05:00</th>\n",
       "      <td>-0.026</td>\n",
       "    </tr>\n",
       "    <tr>\n",
       "      <th>2020-03-01 04:09:00</th>\n",
       "      <td>-0.022</td>\n",
       "    </tr>\n",
       "    <tr>\n",
       "      <th>2020-03-01 04:13:00</th>\n",
       "      <td>-0.026</td>\n",
       "    </tr>\n",
       "  </tbody>\n",
       "</table>\n",
       "</div>"
      ],
      "text/plain": [
       "                     DV_pressure\n",
       "timestamp                       \n",
       "2020-03-01 04:00:00       -0.026\n",
       "2020-03-01 04:04:00       -0.026\n",
       "2020-03-01 04:05:00       -0.026\n",
       "2020-03-01 04:09:00       -0.022\n",
       "2020-03-01 04:13:00       -0.026"
      ]
     },
     "execution_count": 133,
     "metadata": {},
     "output_type": "execute_result"
    }
   ],
   "source": [
    "df_resampled.head()"
   ]
  },
  {
   "cell_type": "code",
   "execution_count": 134,
   "metadata": {},
   "outputs": [
    {
     "name": "stdout",
     "output_type": "stream",
     "text": [
      "Index(['DV_pressure'], dtype='object')\n"
     ]
    }
   ],
   "source": [
    "print(df_resampled.columns)"
   ]
  },
  {
   "cell_type": "code",
   "execution_count": 140,
   "metadata": {},
   "outputs": [
    {
     "data": {
      "text/plain": [
       "(145, 1)"
      ]
     },
     "execution_count": 140,
     "metadata": {},
     "output_type": "execute_result"
    }
   ],
   "source": [
    "df_resampled.shape"
   ]
  },
  {
   "cell_type": "code",
   "execution_count": 154,
   "metadata": {},
   "outputs": [
    {
     "name": "stdout",
     "output_type": "stream",
     "text": [
      "Hourly Data Shape: (64, 1)\n",
      "                     DV_pressure\n",
      "timestamp                       \n",
      "2020-03-01 04:00:00       -0.026\n",
      "2020-03-01 04:04:00       -0.026\n",
      "2020-03-01 04:05:00       -0.026\n",
      "2020-03-01 04:09:00       -0.022\n",
      "2020-03-01 04:13:00       -0.026\n",
      "2020-03-01 04:15:00       -0.026\n",
      "2020-03-01 04:43:00       -0.024\n",
      "2020-03-01 04:46:00       -0.026\n",
      "2020-03-01 04:47:00       -0.024\n",
      "2020-03-01 05:11:00       -0.025\n",
      "2020-03-01 05:21:00       -0.026\n",
      "2020-03-01 05:24:00       -0.026\n"
     ]
    }
   ],
   "source": [
    "df_resampled.index = pd.to_datetime(df_resampled.index)\n",
    "\n",
    "# Drop any rows with NaN values\n",
    "df_resampled = df_resampled.dropna()\n",
    "\n",
    "# Define the hour range for forecasting\n",
    "forecast_hour_start = pd.Timestamp(\"2020-03-01 00:00:00\")  # Start of the hour\n",
    "forecast_hour_end = pd.Timestamp(\"2020-03-01 12:00:00\")    # End of the hour\n",
    "\n",
    "# Slice the data for the specified hour\n",
    "df_hour = df_resampled[(df_resampled.index >= forecast_hour_start) & (df_resampled.index < forecast_hour_end)]\n",
    "\n",
    "# Print the shape and head of the resulting DataFrame\n",
    "print(\"Hourly Data Shape:\", df_hour.shape)\n",
    "print(df_hour.head(12))"
   ]
  },
  {
   "cell_type": "code",
   "execution_count": 172,
   "metadata": {},
   "outputs": [
    {
     "name": "stdout",
     "output_type": "stream",
     "text": [
      "Forecast for the next 10 minutes: 64   -0.023472\n",
      "65   -0.023345\n",
      "66   -0.023386\n",
      "67   -0.023366\n",
      "68   -0.023376\n",
      "69   -0.023371\n",
      "70   -0.023373\n",
      "71   -0.023372\n",
      "72   -0.023373\n",
      "73   -0.023373\n",
      "Name: predicted_mean, dtype: float64\n"
     ]
    },
    {
     "name": "stderr",
     "output_type": "stream",
     "text": [
      "d:\\Anaconda\\Anaconda3\\lib\\site-packages\\statsmodels\\tsa\\base\\tsa_model.py:471: ValueWarning: A date index has been provided, but it has no associated frequency information and so will be ignored when e.g. forecasting.\n",
      "  self._init_dates(dates, freq)\n",
      "d:\\Anaconda\\Anaconda3\\lib\\site-packages\\statsmodels\\tsa\\base\\tsa_model.py:471: ValueWarning: A date index has been provided, but it has no associated frequency information and so will be ignored when e.g. forecasting.\n",
      "  self._init_dates(dates, freq)\n",
      "d:\\Anaconda\\Anaconda3\\lib\\site-packages\\statsmodels\\tsa\\base\\tsa_model.py:471: ValueWarning: A date index has been provided, but it has no associated frequency information and so will be ignored when e.g. forecasting.\n",
      "  self._init_dates(dates, freq)\n",
      "d:\\Anaconda\\Anaconda3\\lib\\site-packages\\statsmodels\\tsa\\base\\tsa_model.py:834: ValueWarning: No supported index is available. Prediction results will be given with an integer index beginning at `start`.\n",
      "  return get_prediction_index(\n"
     ]
    }
   ],
   "source": [
    "from statsmodels.tsa.arima.model import ARIMA\n",
    "\n",
    "# Fit an ARIMA model (example)\n",
    "model = ARIMA(df_hour['DV_pressure'], order=(2, 1, 2))  # Replace with your target column\n",
    "model_fit = model.fit()\n",
    "\n",
    "# Forecast the next 10 minutes\n",
    "forecast = model_fit.forecast(steps=10)\n",
    "print(\"Forecast for the next 10 minutes:\", forecast)"
   ]
  },
  {
   "cell_type": "code",
   "execution_count": 166,
   "metadata": {},
   "outputs": [
    {
     "data": {
      "text/html": [
       "<table class=\"simpletable\">\n",
       "<caption>SARIMAX Results</caption>\n",
       "<tr>\n",
       "  <th>Dep. Variable:</th>           <td>y</td>        <th>  No. Observations:  </th>    <td>64</td>   \n",
       "</tr>\n",
       "<tr>\n",
       "  <th>Model:</th>           <td>SARIMAX(0, 1, 1)</td> <th>  Log Likelihood     </th>  <td>330.550</td>\n",
       "</tr>\n",
       "<tr>\n",
       "  <th>Date:</th>            <td>Thu, 20 Mar 2025</td> <th>  AIC                </th> <td>-655.101</td>\n",
       "</tr>\n",
       "<tr>\n",
       "  <th>Time:</th>                <td>22:48:13</td>     <th>  BIC                </th> <td>-648.672</td>\n",
       "</tr>\n",
       "<tr>\n",
       "  <th>Sample:</th>                  <td>0</td>        <th>  HQIC               </th> <td>-652.572</td>\n",
       "</tr>\n",
       "<tr>\n",
       "  <th></th>                       <td> - 64</td>      <th>                     </th>     <td> </td>   \n",
       "</tr>\n",
       "<tr>\n",
       "  <th>Covariance Type:</th>        <td>opg</td>       <th>                     </th>     <td> </td>   \n",
       "</tr>\n",
       "</table>\n",
       "<table class=\"simpletable\">\n",
       "<tr>\n",
       "      <td></td>         <th>coef</th>     <th>std err</th>      <th>z</th>      <th>P>|z|</th>  <th>[0.025</th>    <th>0.975]</th>  \n",
       "</tr>\n",
       "<tr>\n",
       "  <th>intercept</th> <td> 3.473e-05</td> <td> 2.61e-05</td> <td>    1.331</td> <td> 0.183</td> <td>-1.64e-05</td> <td> 8.59e-05</td>\n",
       "</tr>\n",
       "<tr>\n",
       "  <th>ma.L1</th>     <td>   -0.8742</td> <td>    0.071</td> <td>  -12.328</td> <td> 0.000</td> <td>   -1.013</td> <td>   -0.735</td>\n",
       "</tr>\n",
       "<tr>\n",
       "  <th>sigma2</th>    <td>  1.57e-06</td> <td> 2.98e-07</td> <td>    5.264</td> <td> 0.000</td> <td> 9.85e-07</td> <td> 2.15e-06</td>\n",
       "</tr>\n",
       "</table>\n",
       "<table class=\"simpletable\">\n",
       "<tr>\n",
       "  <th>Ljung-Box (L1) (Q):</th>     <td>0.43</td> <th>  Jarque-Bera (JB):  </th> <td>5.11</td>\n",
       "</tr>\n",
       "<tr>\n",
       "  <th>Prob(Q):</th>                <td>0.51</td> <th>  Prob(JB):          </th> <td>0.08</td>\n",
       "</tr>\n",
       "<tr>\n",
       "  <th>Heteroskedasticity (H):</th> <td>1.24</td> <th>  Skew:              </th> <td>0.70</td>\n",
       "</tr>\n",
       "<tr>\n",
       "  <th>Prob(H) (two-sided):</th>    <td>0.63</td> <th>  Kurtosis:          </th> <td>2.96</td>\n",
       "</tr>\n",
       "</table><br/><br/>Warnings:<br/>[1] Covariance matrix calculated using the outer product of gradients (complex-step)."
      ],
      "text/plain": [
       "<class 'statsmodels.iolib.summary.Summary'>\n",
       "\"\"\"\n",
       "                               SARIMAX Results                                \n",
       "==============================================================================\n",
       "Dep. Variable:                      y   No. Observations:                   64\n",
       "Model:               SARIMAX(0, 1, 1)   Log Likelihood                 330.550\n",
       "Date:                Thu, 20 Mar 2025   AIC                           -655.101\n",
       "Time:                        22:48:13   BIC                           -648.672\n",
       "Sample:                             0   HQIC                          -652.572\n",
       "                                 - 64                                         \n",
       "Covariance Type:                  opg                                         \n",
       "==============================================================================\n",
       "                 coef    std err          z      P>|z|      [0.025      0.975]\n",
       "------------------------------------------------------------------------------\n",
       "intercept   3.473e-05   2.61e-05      1.331      0.183   -1.64e-05    8.59e-05\n",
       "ma.L1         -0.8742      0.071    -12.328      0.000      -1.013      -0.735\n",
       "sigma2       1.57e-06   2.98e-07      5.264      0.000    9.85e-07    2.15e-06\n",
       "===================================================================================\n",
       "Ljung-Box (L1) (Q):                   0.43   Jarque-Bera (JB):                 5.11\n",
       "Prob(Q):                              0.51   Prob(JB):                         0.08\n",
       "Heteroskedasticity (H):               1.24   Skew:                             0.70\n",
       "Prob(H) (two-sided):                  0.63   Kurtosis:                         2.96\n",
       "===================================================================================\n",
       "\n",
       "Warnings:\n",
       "[1] Covariance matrix calculated using the outer product of gradients (complex-step).\n",
       "\"\"\""
      ]
     },
     "execution_count": 166,
     "metadata": {},
     "output_type": "execute_result"
    }
   ],
   "source": [
    "from pmdarima import auto_arima\n",
    "auto_arima(df_hour['DV_pressure']).summary()"
   ]
  },
  {
   "cell_type": "code",
   "execution_count": 170,
   "metadata": {},
   "outputs": [
    {
     "data": {
      "image/png": "[encoded data removed]",
      "text/plain": [
       "<Figure size 1200x500 with 1 Axes>"
      ]
     },
     "metadata": {},
     "output_type": "display_data"
    }
   ],
   "source": [
    "import matplotlib.pyplot as plt\n",
    "import pandas as pd\n",
    "\n",
    "# Calculate thresholds for DV_pressure\n",
    "upper_threshold = df_hour['DV_pressure'].mean() + 2 * df_hour['DV_pressure'].std()\n",
    "lower_threshold = df_hour['DV_pressure'].mean() - 2 * df_hour['DV_pressure'].std()\n",
    "\n",
    "forecast_index = pd.date_range(start=df_hour.index[-1] + pd.Timedelta(minutes=1),\n",
    "                               periods=len(forecast), freq='T')\n",
    "forecast = pd.Series(forecast, index=forecast_index)\n",
    "\n",
    "# Identify failure points\n",
    "failure_points = forecast[(forecast > upper_threshold) | (forecast < lower_threshold)]\n",
    "\n",
    "# Plot results\n",
    "plt.figure(figsize=(12, 5))\n",
    "plt.plot(df_hour.index, df_hour['DV_pressure'], label='Training Data', color='blue')\n",
    "plt.plot(forecast.index, forecast, label='Forecast', color='orange', linestyle='dashed')\n",
    "plt.axhline(upper_threshold, color='red', linestyle='dashed', label='Upper Threshold')\n",
    "plt.axhline(lower_threshold, color='green', linestyle='dashed', label='Lower Threshold')\n",
    "plt.scatter(failure_points.index, failure_points, color='red', label='Failure Points', zorder=3)\n",
    "plt.legend()\n",
    "plt.title(\"ARIMA Forecast for 2020-03-01 with Failure Thresholding\")\n",
    "plt.xlabel(\"Time\")\n",
    "plt.ylabel(\"DV Pressure\")\n",
    "plt.grid(True)\n",
    "plt.show()"
   ]
  }
 ],
 "metadata": {
  "kernelspec": {
   "display_name": "Python 3",
   "language": "python",
   "name": "python3"
  },
  "language_info": {
   "codemirror_mode": {
    "name": "ipython",
    "version": 3
   },
   "file_extension": ".py",
   "mimetype": "text/x-python",
   "name": "python",
   "nbconvert_exporter": "python",
   "pygments_lexer": "ipython3",
   "version": "3.9.13"
  },
  "orig_nbformat": 4,
  "vscode": {
   "interpreter": {
    "hash": "a5f44439766e47113308a61c45e3ba0ce79cefad900abb614d22e5ec5db7fbe0"
   }
  }
 },
 "nbformat": 4,
 "nbformat_minor": 2
}
